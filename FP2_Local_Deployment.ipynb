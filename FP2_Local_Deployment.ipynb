{
 "cells": [
  {
   "cell_type": "markdown",
   "id": "8b64bce1",
   "metadata": {},
   "source": [
    "# Oil Production Forecasting"
   ]
  },
  {
   "cell_type": "code",
   "execution_count": 1,
   "id": "2a0a2ccc",
   "metadata": {},
   "outputs": [],
   "source": [
    "#importing libraries\n",
    "\n",
    "import json\n",
    "import csv\n",
    "import requests\n",
    "import pandas as pd\n",
    "import matplotlib.pyplot as plt\n",
    "import numpy as np\n",
    "\n",
    "import warnings #library to ignore warnings\n",
    "warnings.filterwarnings('ignore')\n",
    "import ipywidgets as widgets #widgets for voila deployment\n",
    "from IPython.display import display, clear_output\n",
    "\n",
    "from dateutil.relativedelta import relativedelta\n",
    "\n",
    "from datetime import datetime"
   ]
  },
  {
   "cell_type": "code",
   "execution_count": 2,
   "id": "fd46ff99",
   "metadata": {},
   "outputs": [],
   "source": [
    "# API URL\n",
    "api_url=\"https://api.eia.gov/v2/international/data/?api_key=PYTvNry19FP8DgMdBAikT14IOtP21vBOZY2ZuDTJ&frequency=monthly&data[0]=value&facets[activityId][]=1&facets[productId][]=53&facets[countryRegionId][]=IND&facets[unit][]=TBPD&start=1990-01&end=2023-03&sort[0][column]=period&sort[0][direction]=asc&offset=0&length=5000\"\n",
    "# Send GET request to the API\n",
    "response = requests.get(api_url)"
   ]
  },
  {
   "cell_type": "code",
   "execution_count": 3,
   "id": "08e0c430",
   "metadata": {},
   "outputs": [],
   "source": [
    "# Check if the request was successful (status code 200)\n",
    "if response.status_code == 200:\n",
    "    # Get the response data\n",
    "    data = response.json()\n",
    "    df = pd.DataFrame(data['response']['data'])\n",
    "    #print(\"Data extracted successfully via API.\")\n",
    "#else:\n",
    "    #print(\"Failed to retrieve data. Status code:\", response.status_code)"
   ]
  },
  {
   "cell_type": "code",
   "execution_count": 4,
   "id": "41e3d9e8",
   "metadata": {},
   "outputs": [],
   "source": [
    "# Convert 'period' column to datetime format and assign it to 'ds' column\n",
    "df['ds']=pd.to_datetime(df['period'])\n",
    "\n",
    "# Assign 'value' column to 'y' column\n",
    "df['y']=df['value']"
   ]
  },
  {
   "cell_type": "code",
   "execution_count": 5,
   "id": "77f5effa",
   "metadata": {},
   "outputs": [],
   "source": [
    "# Create a new DataFrame with columns 'ds' and 'y'\n",
    "data_series=df[['ds','y']]"
   ]
  },
  {
   "cell_type": "code",
   "execution_count": 6,
   "id": "8f00dcc5",
   "metadata": {},
   "outputs": [],
   "source": [
    "import pandas as pd\n",
    "\n",
    "API_TOKEN = 'a122af78b08f7eccfe99605fe17fb2050d3116e1'\n",
    "\n",
    "# Read CPI data from the specified URL and parse the 'Date' column as dates\n",
    "df_cpi = pd.read_csv(\n",
    "    'https://www.econdb.com/api/series/CPIIN/?token=%s&format=csv' % API_TOKEN,\n",
    "    parse_dates=['Date'])"
   ]
  },
  {
   "cell_type": "code",
   "execution_count": 7,
   "id": "fa06c0c1",
   "metadata": {},
   "outputs": [],
   "source": [
    "# Merge the CPI dataframe (df_cpi) and the data series dataframe (data_series)\n",
    "# based on the common columns 'Date' and 'ds', using an inner join\n",
    "\n",
    "merged_df = df_cpi.merge(data_series, left_on='Date', right_on='ds', how='inner')"
   ]
  },
  {
   "cell_type": "code",
   "execution_count": 8,
   "id": "ffbfc42c",
   "metadata": {},
   "outputs": [],
   "source": [
    "# Import the ARIMA model from the statsmodels library for time series analysis and forecasting\n",
    "\n",
    "from statsmodels.tsa.arima.model import ARIMA"
   ]
  },
  {
   "cell_type": "code",
   "execution_count": 9,
   "id": "759d4ea8",
   "metadata": {},
   "outputs": [],
   "source": [
    "#Defining period\n",
    "\n",
    "period=len(merged_df) - 6"
   ]
  },
  {
   "cell_type": "code",
   "execution_count": 10,
   "id": "a70aa19d",
   "metadata": {},
   "outputs": [],
   "source": [
    "# Select the columns 'ds', 'CPIIN', and 'y' from the merged DataFrame\n",
    "# and slice the rows from the beginning up to 'period' (exclusive) to create the training data\n",
    "\n",
    "train_data =merged_df[['ds', 'CPIIN','y']][:period]\n",
    "\n",
    "# Select the columns 'ds', 'CPIIN', and 'y' from the merged DataFrame\n",
    "# and slice the rows from the beginning up to 'period' (exclusive) to create the training data\n",
    "test_data =merged_df[['ds', 'CPIIN','y']][period:]"
   ]
  },
  {
   "cell_type": "code",
   "execution_count": 11,
   "id": "f03525fa",
   "metadata": {},
   "outputs": [],
   "source": [
    "order = (1, 0, 0)  # ARIMA order\n",
    "\n",
    "# Create an ARIMAX model with the specified order, using 'y' as the endogenous variable\n",
    "# and 'CPIIN' as the exogenous variable in the training data\n",
    "model_arimax = ARIMA(train_data['y'], exog=train_data['CPIIN'], order=order)\n",
    "\n",
    "# Fit the ARIMAX model to the training data\n",
    "model_arimax_fit = model_arimax.fit()"
   ]
  },
  {
   "cell_type": "code",
   "execution_count": 12,
   "id": "effe3b6d",
   "metadata": {},
   "outputs": [],
   "source": [
    "#Predicting oil production\n",
    "exog_reshaped = test_data['CPIIN'].values.reshape(-1, 1)\n",
    "# Make predictions using the trained ARIMAX model\n",
    "predicted_values_user = model_arimax_fit.predict(start=len(merged_df)-6, end=len(merged_df)-6 + 6 - 1, exog=exog_reshaped)\n",
    "\n",
    "# Calculate MAPE\n",
    "actual_values = test_data['y']\n",
    "mape = round(np.mean(np.abs((actual_values - predicted_values_user) / actual_values)),4)"
   ]
  },
  {
   "cell_type": "code",
   "execution_count": 13,
   "id": "66cc20e0",
   "metadata": {},
   "outputs": [],
   "source": [
    "# Calculate MAPE row-wise\n",
    "mape_list = []\n",
    "for i in range(357,363):\n",
    "    actual_value_1 = actual_values[i]\n",
    "    predicted_value_1 = predicted_values_user[i]\n",
    "    mape = round(np.abs((actual_value_1 - predicted_value_1) / actual_value_1), 4)\n",
    "    mape_list.append(mape)\n",
    "\n",
    "# Add the MAPE values as a new column to the DataFrame\n",
    "test_data['MAPE'] = mape_list\n",
    "\n",
    "Monitoring_data = test_data[['ds','MAPE']]\n",
    "Monitoring_data.reset_index(drop=True, inplace=True)\n",
    "Monitoring_data.to_csv('monitoring_data.csv',index=False)"
   ]
  },
  {
   "cell_type": "code",
   "execution_count": 14,
   "id": "365e3786",
   "metadata": {},
   "outputs": [],
   "source": [
    "style = {'description_width': 'initial'}\n",
    "\n",
    "# Create a date widget\n",
    "start_date = widgets.DatePicker(\n",
    "    description='Select Test Start Date',\n",
    "    disabled=True,\n",
    "    style=style\n",
    "    ,value=merged_df['ds'].dt.date.max() - relativedelta(months=5)\n",
    ")\n",
    "\n",
    "\n",
    "# Create a date widget\n",
    "end_date = widgets.DatePicker(\n",
    "    description='Select Test End Date',\n",
    "    disabled=False,\n",
    "    style=style\n",
    "    ,value=datetime.today().date() + relativedelta(months=4)\n",
    ")"
   ]
  },
  {
   "cell_type": "code",
   "execution_count": null,
   "id": "9944d65a",
   "metadata": {},
   "outputs": [],
   "source": []
  },
  {
   "cell_type": "code",
   "execution_count": 15,
   "id": "f668ae3c",
   "metadata": {},
   "outputs": [
    {
     "name": "stderr",
     "output_type": "stream",
     "text": [
      "C:\\Users\\deepa\\anaconda3\\lib\\site-packages\\statsmodels\\tsa\\base\\tsa_model.py:471: ValueWarning: No frequency information was provided, so inferred frequency MS will be used.\n",
      "  self._init_dates(dates, freq)\n",
      "C:\\Users\\deepa\\anaconda3\\lib\\site-packages\\statsmodels\\tsa\\base\\tsa_model.py:471: ValueWarning: No frequency information was provided, so inferred frequency MS will be used.\n",
      "  self._init_dates(dates, freq)\n",
      "C:\\Users\\deepa\\anaconda3\\lib\\site-packages\\statsmodels\\tsa\\base\\tsa_model.py:471: ValueWarning: No frequency information was provided, so inferred frequency MS will be used.\n",
      "  self._init_dates(dates, freq)\n"
     ]
    }
   ],
   "source": [
    "# ARIMA to predict CPIIN\n",
    "\n",
    "import pandas as pd\n",
    "import numpy as np\n",
    "from statsmodels.tsa.arima.model import ARIMA\n",
    "# Create a DataFrame with the date and value columns\n",
    "data = merged_df[:period]\n",
    "# Set the date column as the index\n",
    "data.set_index('ds', inplace=True)\n",
    "# Create the ARIMA model\n",
    "model = ARIMA(data['CPIIN'], order=(1, 0, 0))  # Set the order (p, d, q) for ARIMA\n",
    "# Fit the model\n",
    "model_fit = model.fit()"
   ]
  },
  {
   "cell_type": "code",
   "execution_count": 16,
   "id": "64b22bd8",
   "metadata": {},
   "outputs": [],
   "source": [
    "# Voila"
   ]
  },
  {
   "cell_type": "code",
   "execution_count": 17,
   "id": "e918a17f",
   "metadata": {},
   "outputs": [
    {
     "name": "stderr",
     "output_type": "stream",
     "text": [
      "Enabling notebook extension jupyter-js-widgets/extension...\n",
      "      - Validating: ok\n",
      "Enabling: voila\n",
      "- Writing config: C:\\Users\\deepa\\anaconda3\\etc\\jupyter\n",
      "    - Validating...\n",
      "      voila 0.4.1 ok\n"
     ]
    }
   ],
   "source": [
    "#Install these packages for the first time users\n",
    "\n",
    "#!pip install voila\n",
    "#!pip install widgetsnbextension\n",
    "#!pip uninstall ipywidgets --only in terminal\n",
    "#!pip install ipywidgets\n",
    "!jupyter nbextension enable --py widgetsnbextension --sys-prefix\n",
    "!jupyter serverextension enable voila --sys-prefix"
   ]
  },
  {
   "cell_type": "code",
   "execution_count": 18,
   "id": "8bdd1293",
   "metadata": {},
   "outputs": [],
   "source": [
    "def prediction(months_diff,Title):\n",
    "    # Predicting CPIIN\n",
    "    predicted_value_cpiin_user = pd.DataFrame(model_fit.predict(start=len(data), end=len(data) + months_diff - 1))\n",
    "    predicted_value_cpiin_user['CPIIN'] = predicted_value_cpiin_user['predicted_mean']\n",
    "    # Create a new index\n",
    "    new_index = range(len(data), len(data) + months_diff)\n",
    "    # Set the new index using set_index()\n",
    "    predicted_value_cpiin_user.index = new_index\n",
    "\n",
    "    #Predicting oil production\n",
    "    exog_reshaped = predicted_value_cpiin_user['CPIIN'].values.reshape(-1, 1)\n",
    "    # Make predictions using the trained ARIMAX model\n",
    "    predicted_values_user = pd.DataFrame(model_arimax_fit.predict(start=len(merged_df)-6, end=len(merged_df)-6 + months_diff - 1, exog=exog_reshaped))\n",
    "    predicted_values_user['Oil_Production'] = predicted_values_user['predicted_mean'].round(2)\n",
    "    # Reset the index and start from 0\n",
    "    predicted_values_user.reset_index(drop=True, inplace=True)\n",
    "\n",
    "    # Generate the monthly dates within the specified range    \n",
    "    dates = pd.date_range(start=start_date.value, end=end_date.value, freq='MS')\n",
    "    # Create a DataFrame with the month column\n",
    "    predicted_values_user['Month'] = pd.DataFrame({'Month': dates})\n",
    "\n",
    "    predicted_values_user = predicted_values_user.drop(columns=[\"predicted_mean\"])\n",
    "    predicted_values_user = predicted_values_user[['Month','Oil_Production']]\n",
    "    \n",
    "    print(predicted_values_user.to_string(index=False))\n",
    "\n",
    "    # Plot the line graph\n",
    "    predicted_values_user.plot(x='Month', y='Oil_Production', figsize=(8, 4))\n",
    "\n",
    "    # Add labels and title\n",
    "    plt.xlabel('Month')\n",
    "    plt.ylabel('Oil_Production')\n",
    "    plt.title('Oil Production Forecast '+Title)\n",
    "\n",
    "    # Show the plot\n",
    "    plt.show()"
   ]
  },
  {
   "cell_type": "code",
   "execution_count": 19,
   "id": "9a0ae831",
   "metadata": {},
   "outputs": [],
   "source": [
    "button_send_2 = widgets.Button(\n",
    "                description='Predict',\n",
    "                tooltip='Send',\n",
    "                style={'description_width': 'initial'}\n",
    "            )\n",
    "\n",
    "output_2 = widgets.Output()\n",
    "\n",
    "def on_button_clicked(event):\n",
    "    with output_2:          \n",
    "        # Calculate the difference between the end date and start date\n",
    "        date_diff = end_date.value - start_date.value\n",
    "       \n",
    "        # Calculate the difference in months between the end date and start date\n",
    "        months_diff = (end_date.value.year - start_date.value.year) * 12 + (end_date.value.month - start_date.value.month) + 1\n",
    "        \n",
    "        # Calculate the difference in months between the end date and start date\n",
    "        Short_Term_Duration = 6\n",
    "        Long_Term_Duration = 60\n",
    "        \n",
    "        print(\"Oil Production Forecast: Custom Date\")\n",
    "        prediction(months_diff, \"Oil Production Forecast: Custom Date\")\n",
    "        \n",
    "        # Calculate the difference in months between the end date and start date\n",
    "        end_date.value = start_date.value + relativedelta(months=Short_Term_Duration)\n",
    "        print(\"Oil Production Forecast: Short-Term Duration\")\n",
    "        prediction(Short_Term_Duration, \"Oil Production Forecast: Short-Term Duration\")\n",
    "        \n",
    "        # Calculate the difference in months between the end date and start date\n",
    "        end_date.value = start_date.value + relativedelta(months=Long_Term_Duration)\n",
    "        print(\"Oil Production Forecast: Long-Term Duration\")\n",
    "        prediction(Long_Term_Duration, \"Oil Production Forecast: Long-Term Duration\")\n",
    "        \n",
    "        # Reset the end date to the original difference in days\n",
    "        end_date.value = start_date.value + relativedelta(days=date_diff.days)\n",
    "        \n",
    "\n",
    "button_send_2.on_click(on_button_clicked)\n",
    "\n",
    "text_0 = widgets.HTML(value=\"<h1>Select the end date</h1>\")\n",
    "vbox_result = widgets.VBox([text_0, output_2,start_date,end_date,button_send_2])"
   ]
  },
  {
   "cell_type": "code",
   "execution_count": 20,
   "id": "6e1e8622",
   "metadata": {
    "scrolled": true
   },
   "outputs": [
    {
     "data": {
      "application/vnd.jupyter.widget-view+json": {
       "model_id": "f9c267296e844f32810420265005f789",
       "version_major": 2,
       "version_minor": 0
      },
      "text/plain": [
       "HBox(children=(VBox(children=(HTML(value='<h1>Select the end date</h1>'), Output(), DatePicker(value=datetime.…"
      ]
     },
     "metadata": {},
     "output_type": "display_data"
    }
   ],
   "source": [
    "page = widgets.HBox([vbox_result])\n",
    "\n",
    "# Display the page containing the result VBox\n",
    "display(page)"
   ]
  }
 ],
 "metadata": {
  "kernelspec": {
   "display_name": "Python 3 (ipykernel)",
   "language": "python",
   "name": "python3"
  },
  "language_info": {
   "codemirror_mode": {
    "name": "ipython",
    "version": 3
   },
   "file_extension": ".py",
   "mimetype": "text/x-python",
   "name": "python",
   "nbconvert_exporter": "python",
   "pygments_lexer": "ipython3",
   "version": "3.9.13"
  }
 },
 "nbformat": 4,
 "nbformat_minor": 5
}
